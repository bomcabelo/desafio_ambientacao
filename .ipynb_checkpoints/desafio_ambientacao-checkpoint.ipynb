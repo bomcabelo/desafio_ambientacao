{
 "cells": [
  {
   "cell_type": "markdown",
   "metadata": {
    "id": "bUTUFso5nCIb"
   },
   "source": [
    "# Desafios de Python Essencial para Data Science\n",
    "## 1. Introdução ao Python"
   ]
  },
  {
   "cell_type": "code",
   "execution_count": null,
   "metadata": {
    "colab": {
     "base_uri": "https://localhost:8080/"
    },
    "executionInfo": {
     "elapsed": 9,
     "status": "ok",
     "timestamp": 1718990683655,
     "user": {
      "displayName": "Anderson Rodrigues",
      "userId": "12626291284134980042"
     },
     "user_tz": 180
    },
    "id": "u5yWfwV9wl00",
    "outputId": "37f32afe-c416-418c-9e3e-d8ae5ab7550a"
   },
   "outputs": [],
   "source": [
    "# Crie um script \"Hello, World!\n",
    "\n",
    "print(\"Hello, World!\")"
   ]
  },
  {
   "cell_type": "code",
   "execution_count": null,
   "metadata": {
    "colab": {
     "base_uri": "https://localhost:8080/"
    },
    "executionInfo": {
     "elapsed": 7,
     "status": "ok",
     "timestamp": 1718990683655,
     "user": {
      "displayName": "Anderson Rodrigues",
      "userId": "12626291284134980042"
     },
     "user_tz": 180
    },
    "id": "ocp3lmZHwxP1",
    "outputId": "87628c98-50aa-493f-cf3f-f860c21bae18"
   },
   "outputs": [],
   "source": [
    "# Conceitos básicos de variáveis e tipos de dados em Python\n",
    "\n",
    "# Variáveis\n",
    "\n",
    "nome = 'Vinícius'\n",
    "idade = 30\n",
    "altura = 1.80\n",
    "\n",
    "# Tipos de dados\n",
    "\n",
    "print(type(nome))  # <class 'str'>\n",
    "print(type(idade))  # <class 'int'>\n",
    "print(type(altura))  # <class 'float'>\n",
    "\n",
    "# Operações com variáveis\n",
    "\n",
    "soma = idade + 10\n",
    "print(soma)  # 40\n",
    "\n",
    "# Concatenação de strings\n",
    "\n",
    "nome_completo = nome + ' ' + 'Santos'\n",
    "print(nome_completo)  # 'Vinícius Santos'\n"
   ]
  },
  {
   "cell_type": "markdown",
   "metadata": {
    "id": "x6nfnGj2n3yO"
   },
   "source": [
    "# 2. Funções e Condicionais"
   ]
  },
  {
   "cell_type": "code",
   "execution_count": null,
   "metadata": {
    "colab": {
     "base_uri": "https://localhost:8080/"
    },
    "executionInfo": {
     "elapsed": 6,
     "status": "ok",
     "timestamp": 1718990683655,
     "user": {
      "displayName": "Anderson Rodrigues",
      "userId": "12626291284134980042"
     },
     "user_tz": 180
    },
    "id": "OCOBiMlTxAGm",
    "outputId": "cccb950d-5550-40c5-dac8-be4b5db0b74c"
   },
   "outputs": [],
   "source": [
    "# Escreva uma função que receba dois números e retorne o maior deles.\n",
    "\n",
    "def maximo(a, b):\n",
    "  \"\"\"\n",
    "  Retorna o maior valor entre dois números.\n",
    "\n",
    "  Args:\n",
    "    a: O primeiro número.\n",
    "    b: O segundo número.\n",
    "\n",
    "  Returns:\n",
    "    O maior valor entre a e b.\n",
    "  \"\"\"\n",
    "  if a > b:\n",
    "    return a\n",
    "  else:\n",
    "    return b\n",
    "\n",
    "# Exemplo de uso\n",
    "print(maximo(5, 10))  # 10\n",
    "print(maximo(12, 3))  # 12\n"
   ]
  },
  {
   "cell_type": "code",
   "execution_count": null,
   "metadata": {
    "colab": {
     "base_uri": "https://localhost:8080/"
    },
    "executionInfo": {
     "elapsed": 6,
     "status": "ok",
     "timestamp": 1718990683656,
     "user": {
      "displayName": "Anderson Rodrigues",
      "userId": "12626291284134980042"
     },
     "user_tz": 180
    },
    "id": "pQT-smfoxOiW",
    "outputId": "9a927fd7-74a9-48a2-a77f-872c64c3ab2c"
   },
   "outputs": [],
   "source": [
    "# Utilize condicionais para verificar se um número é par ou ímpar\n",
    "\n",
    "def is_even(number):\n",
    "  \"\"\"\n",
    "  Verifica se um número é par.\n",
    "\n",
    "  Args:\n",
    "    number: O número a ser verificado.\n",
    "\n",
    "  Returns:\n",
    "    True se o número for par, False caso contrário.\n",
    "  \"\"\"\n",
    "  return number % 2 == 0\n",
    "\n",
    "# Exemplo de uso\n",
    "print(is_even(4))  # True\n",
    "print(is_even(5))  # False\n"
   ]
  },
  {
   "cell_type": "markdown",
   "metadata": {
    "id": "igVh-60MorDw"
   },
   "source": [
    "# 3. Loops e Iterações"
   ]
  },
  {
   "cell_type": "code",
   "execution_count": null,
   "metadata": {
    "colab": {
     "base_uri": "https://localhost:8080/"
    },
    "executionInfo": {
     "elapsed": 5,
     "status": "ok",
     "timestamp": 1718990683656,
     "user": {
      "displayName": "Anderson Rodrigues",
      "userId": "12626291284134980042"
     },
     "user_tz": 180
    },
    "id": "T-lmZNWAxdA_",
    "outputId": "be686958-0183-4e5c-c578-ca1405bb62c0"
   },
   "outputs": [],
   "source": [
    "# Implemente um loop que some todos os números de 1 a 100\n",
    "\n",
    "total = 0\n",
    "for i in range(1, 101):\n",
    "  total += i\n",
    "\n",
    "print(total)\n"
   ]
  },
  {
   "cell_type": "code",
   "execution_count": null,
   "metadata": {
    "colab": {
     "base_uri": "https://localhost:8080/"
    },
    "executionInfo": {
     "elapsed": 4,
     "status": "ok",
     "timestamp": 1718990683656,
     "user": {
      "displayName": "Anderson Rodrigues",
      "userId": "12626291284134980042"
     },
     "user_tz": 180
    },
    "id": "IjFbEsn9xoJI",
    "outputId": "06e597f5-6acc-4b65-c5eb-33af38fa4514"
   },
   "outputs": [],
   "source": [
    "# Crie uma lista de palavras e utilize um loop para contar quantas palavras possuem mais de 5 caracteres.\n",
    "\n",
    "def count_long_words(word_list):\n",
    "  \"\"\"\n",
    "  Counts the number of words in a list that have more than 5 characters.\n",
    "\n",
    "  Args:\n",
    "    word_list: A list of words.\n",
    "\n",
    "  Returns:\n",
    "    The number of words in the list that have more than 5 characters.\n",
    "  \"\"\"\n",
    "\n",
    "  long_word_count = 0\n",
    "  for word in word_list:\n",
    "    if len(word) > 5:\n",
    "      long_word_count += 1\n",
    "  return long_word_count\n",
    "\n",
    "# Example usage\n",
    "word_list = [\"hello\", \"world\", \"python\", \"programming\", \"short\", \"longword\"]\n",
    "long_word_count = count_long_words(word_list)\n",
    "print(f\"Number of words with more than 5 characters: {long_word_count}\")\n"
   ]
  },
  {
   "cell_type": "markdown",
   "metadata": {
    "id": "YXDA6bUNvAvY"
   },
   "source": [
    "# 4. Listas e Manipulação de Dados"
   ]
  },
  {
   "cell_type": "code",
   "execution_count": null,
   "metadata": {
    "colab": {
     "base_uri": "https://localhost:8080/"
    },
    "executionInfo": {
     "elapsed": 407,
     "status": "ok",
     "timestamp": 1718990684060,
     "user": {
      "displayName": "Anderson Rodrigues",
      "userId": "12626291284134980042"
     },
     "user_tz": 180
    },
    "id": "zBadZ5dfvG0z",
    "outputId": "eade1889-0661-48e2-eda2-8b403ce76943"
   },
   "outputs": [],
   "source": [
    "# Crie uma lista de números e demonstre como adicionar, remover e acessar elementos.\n",
    "# Ordene a lista e encontre o valor máximo e mínimo.\n",
    "\n",
    "# Create a list of numbers\n",
    "numbers = [1, 5, 3, 10, 7]\n",
    "\n",
    "# Add a new element to the end of the list\n",
    "numbers.append(15)\n",
    "\n",
    "# Remove the first element from the list\n",
    "del numbers[0]\n",
    "\n",
    "# Access the third element\n",
    "print(numbers[2])  # Output: 3\n",
    "\n",
    "# Sort the list in ascending order\n",
    "numbers.sort()\n",
    "print(numbers)  # Output: [3, 5, 7, 10, 15]\n",
    "\n",
    "# Find the maximum and minimum values in the list\n",
    "max_value = max(numbers)\n",
    "min_value = min(numbers)\n",
    "\n",
    "print(f\"Maximum value: {max_value}\")  # Output: 15\n",
    "print(f\"Minimum value: {min_value}\")  # Output: 3\n"
   ]
  },
  {
   "cell_type": "markdown",
   "metadata": {
    "id": "2n2SpmxawDOf"
   },
   "source": [
    "## 5. Strings e Operações com Textos\n"
   ]
  },
  {
   "cell_type": "code",
   "execution_count": null,
   "metadata": {
    "colab": {
     "base_uri": "https://localhost:8080/"
    },
    "executionInfo": {
     "elapsed": 8,
     "status": "ok",
     "timestamp": 1718990684060,
     "user": {
      "displayName": "Anderson Rodrigues",
      "userId": "12626291284134980042"
     },
     "user_tz": 180
    },
    "id": "ecRssi3HwIN2",
    "outputId": "9d447d95-58c9-4bb6-9529-dff3436c0e51"
   },
   "outputs": [],
   "source": [
    "# Escreva um código que conte o número de vogais em uma string. Utilize slicing para extrair substrings específicas.\n",
    "\n",
    "def count_vowels(string):\n",
    "  \"\"\"\n",
    "  Counts the number of vowels in a string.\n",
    "\n",
    "  Args:\n",
    "    string: The string to count vowels in.\n",
    "\n",
    "  Returns:\n",
    "    The number of vowels in the string.\n",
    "  \"\"\"\n",
    "\n",
    "  vowels = \"aeiou\"\n",
    "  vowel_count = 0\n",
    "  for char in string:\n",
    "    if char.lower() in vowels:\n",
    "      vowel_count += 1\n",
    "\n",
    "  return vowel_count\n",
    "\n",
    "# Example usage\n",
    "string = \"Hello, World!\"\n",
    "vowel_count = count_vowels(string)\n",
    "print(f\"Number of vowels in '{string}': {vowel_count}\")\n",
    "\n",
    "# Slicing substrings\n",
    "substring = string[7:12]\n",
    "print(f\"Substring: '{substring}'\")\n"
   ]
  },
  {
   "cell_type": "markdown",
   "metadata": {
    "id": "iVecaREHy1LR"
   },
   "source": [
    "# 6. Tuplas e Conjuntos"
   ]
  },
  {
   "cell_type": "code",
   "execution_count": null,
   "metadata": {
    "colab": {
     "base_uri": "https://localhost:8080/"
    },
    "executionInfo": {
     "elapsed": 7,
     "status": "ok",
     "timestamp": 1718990684060,
     "user": {
      "displayName": "Anderson Rodrigues",
      "userId": "12626291284134980042"
     },
     "user_tz": 180
    },
    "id": "R2Eh2oLSy2xJ",
    "outputId": "dfa2bb13-8bde-4886-f755-4f18af382b45"
   },
   "outputs": [],
   "source": [
    "# Crie uma tupla com 5 elementos e mostre como acessar cada elemento.\n",
    "\n",
    "# Create a tuple with 5 elements\n",
    "my_tuple = (1, 2, 3, 4, 5)\n",
    "\n",
    "# Access each element\n",
    "print(my_tuple[0])  # Output: 1\n",
    "print(my_tuple[1])  # Output: 2\n",
    "print(my_tuple[2])  # Output: 3\n",
    "print(my_tuple[3])  # Output: 4\n",
    "print(my_tuple[4])  # Output: 5\n",
    "\n",
    "# Access a range of elements\n",
    "print(my_tuple[1:4])  # Output: (2, 3, 4)\n"
   ]
  },
  {
   "cell_type": "code",
   "execution_count": null,
   "metadata": {
    "colab": {
     "base_uri": "https://localhost:8080/"
    },
    "executionInfo": {
     "elapsed": 5,
     "status": "ok",
     "timestamp": 1718990684060,
     "user": {
      "displayName": "Anderson Rodrigues",
      "userId": "12626291284134980042"
     },
     "user_tz": 180
    },
    "id": "LirVjmzszoX0",
    "outputId": "31eeb6e2-2f64-4dfa-9a2b-6977b8a60d48"
   },
   "outputs": [],
   "source": [
    "# Use um conjunto para encontrar os elementos únicos de uma lista.\n",
    "\n",
    "# Create a list with duplicate elements\n",
    "my_list = [1, 2, 3, 4, 2, 5, 1, 6]\n",
    "\n",
    "# Convert the list to a set to remove duplicates\n",
    "unique_elements = set(my_list)\n",
    "\n",
    "# Print the unique elements\n",
    "print(unique_elements)\n"
   ]
  },
  {
   "cell_type": "markdown",
   "metadata": {
    "id": "e2DMGn4Jz9Zh"
   },
   "source": [
    "# 7. Dicionários e Estruturas de Dados"
   ]
  },
  {
   "cell_type": "code",
   "execution_count": null,
   "metadata": {
    "colab": {
     "base_uri": "https://localhost:8080/"
    },
    "executionInfo": {
     "elapsed": 4,
     "status": "ok",
     "timestamp": 1718990684060,
     "user": {
      "displayName": "Anderson Rodrigues",
      "userId": "12626291284134980042"
     },
     "user_tz": 180
    },
    "id": "MMQ3SPMLz_t_",
    "outputId": "7431e99f-92d7-44ac-d860-96bfc2472397"
   },
   "outputs": [],
   "source": [
    "# Crie um dicionário para armazenar informações de um aluno (nome, idade, nota).\n",
    "# Atualize a nota do aluno e adicione uma nova chave para a média das notas.\n",
    "\n",
    "# Create a dictionary to store student information\n",
    "student = {\n",
    "    \"name\": \"John Doe\",\n",
    "    \"age\": 20,\n",
    "    \"grade\": 85\n",
    "}\n",
    "\n",
    "# Update the student's grade\n",
    "student[\"grade\"] = 90\n",
    "\n",
    "# Add a new key for the average grade\n",
    "student[\"average_grade\"] = (student[\"grade\"] + student[\"grade\"]) / 2\n",
    "\n",
    "# Print the updated dictionary\n",
    "print(student)\n"
   ]
  },
  {
   "cell_type": "markdown",
   "metadata": {
    "id": "vSdcDQNa0cpM"
   },
   "source": [
    "# 8. Bibliotecas Externas"
   ]
  },
  {
   "cell_type": "code",
   "execution_count": null,
   "metadata": {
    "colab": {
     "base_uri": "https://localhost:8080/"
    },
    "executionInfo": {
     "elapsed": 10103,
     "status": "ok",
     "timestamp": 1718990694160,
     "user": {
      "displayName": "Anderson Rodrigues",
      "userId": "12626291284134980042"
     },
     "user_tz": 180
    },
    "id": "JW7UE03j0gCh",
    "outputId": "b3a1762a-118f-46aa-f63b-95e4ef6c57a0"
   },
   "outputs": [],
   "source": [
    "# Instale e importe a biblioteca numpy .\n",
    "\n",
    "!pip install numpy\n",
    "import numpy as np\n"
   ]
  },
  {
   "cell_type": "code",
   "execution_count": null,
   "metadata": {
    "colab": {
     "base_uri": "https://localhost:8080/"
    },
    "executionInfo": {
     "elapsed": 5,
     "status": "ok",
     "timestamp": 1718990694160,
     "user": {
      "displayName": "Anderson Rodrigues",
      "userId": "12626291284134980042"
     },
     "user_tz": 180
    },
    "id": "9tXGq0xr0pQK",
    "outputId": "e7ae9bbe-af86-4b2a-a446-e8f54b7d1388"
   },
   "outputs": [],
   "source": [
    "# Crie um array e demonstre operações básicas (soma, média, multiplicação por escalar).\n",
    "\n",
    "# Import the numpy library\n",
    "import numpy as np\n",
    "\n",
    "# Create a numpy array\n",
    "array = np.array([1, 2, 3, 4, 5])\n",
    "\n",
    "# Print the array\n",
    "print(array)\n",
    "\n",
    "# Sum the elements of the array\n",
    "print(np.sum(array))\n",
    "\n",
    "# Calculate the mean of the array\n",
    "print(np.mean(array))\n",
    "\n",
    "# Multiply the array by a scalar\n",
    "print(array * 2)\n"
   ]
  },
  {
   "cell_type": "markdown",
   "metadata": {
    "id": "EbbENyZ52h0L"
   },
   "source": [
    "# 9. Análise de Dados com Pandas"
   ]
  },
  {
   "cell_type": "code",
   "execution_count": null,
   "metadata": {
    "colab": {
     "base_uri": "https://localhost:8080/",
     "height": 206
    },
    "executionInfo": {
     "elapsed": 367,
     "status": "ok",
     "timestamp": 1718996538901,
     "user": {
      "displayName": "Anderson Rodrigues",
      "userId": "12626291284134980042"
     },
     "user_tz": 180
    },
    "id": "JcawvesW2kgb",
    "outputId": "d6692b68-3093-4209-8573-0312a6635069"
   },
   "outputs": [],
   "source": [
    "# Carregue um dataset (ex: CSV) usando pandas e exiba as primeiras linhas.\n",
    "\n",
    "import pandas as pd\n",
    "\n",
    "# Carregando o arquivo CSV\n",
    "df = pd.read_csv('/content/Iris.csv')\n",
    "\n",
    "# Exibe as primeiras linhas\n",
    "df.head()\n"
   ]
  },
  {
   "cell_type": "code",
   "execution_count": null,
   "metadata": {
    "colab": {
     "base_uri": "https://localhost:8080/"
    },
    "executionInfo": {
     "elapsed": 368,
     "status": "ok",
     "timestamp": 1718996766878,
     "user": {
      "displayName": "Anderson Rodrigues",
      "userId": "12626291284134980042"
     },
     "user_tz": 180
    },
    "id": "a08UyPgKLEYt",
    "outputId": "46800eee-8af3-46d9-d747-91f99ceb2f00"
   },
   "outputs": [],
   "source": [
    "# Realize operações básicas de limpeza de dados, como remoção de valores nulos e filtragem de linhas utilizando o arquivo /content/Iris.csv\n",
    "\n",
    "import pandas as pd\n",
    "\n",
    "# Load the CSV file into a Pandas DataFrame\n",
    "df = pd.read_csv('/content/Iris.csv')\n",
    "\n",
    "# Drop rows with missing values\n",
    "df.dropna(inplace=True)\n",
    "\n",
    "# Filter rows where the species is \"setosa\"\n",
    "df = df[df['Species'] != 'setosa']\n",
    "\n",
    "# Print the cleaned DataFrame\n",
    "print(df)\n",
    "\n",
    "isnull_count = df.isnull().sum()\n",
    "print(isnull_count)"
   ]
  },
  {
   "cell_type": "markdown",
   "metadata": {
    "id": "GVarRcgX5U31"
   },
   "source": [
    "# 10. Visualização de Dados\n"
   ]
  },
  {
   "cell_type": "code",
   "execution_count": null,
   "metadata": {
    "colab": {
     "base_uri": "https://localhost:8080/",
     "height": 472
    },
    "executionInfo": {
     "elapsed": 857,
     "status": "ok",
     "timestamp": 1718991846441,
     "user": {
      "displayName": "Anderson Rodrigues",
      "userId": "12626291284134980042"
     },
     "user_tz": 180
    },
    "id": "fZNYRfdm5Yt0",
    "outputId": "da68b7bb-1c5c-4148-d907-3b12abf9c538"
   },
   "outputs": [],
   "source": [
    "# Utilize a biblioteca matplotlib para criar um gráfico de barras com dados fictícios\n",
    "\n",
    "import matplotlib.pyplot as plt\n",
    "\n",
    "# Define data\n",
    "x = [1, 2, 3, 4, 5]\n",
    "y = [10, 20, 30, 40, 50]\n",
    "\n",
    "# Create the bar plot\n",
    "plt.bar(x, y)\n",
    "\n",
    "# Add labels and title\n",
    "plt.xlabel(\"X-axis\")\n",
    "plt.ylabel(\"Y-axis\")\n",
    "plt.title(\"Bar Plot Example\")\n",
    "\n",
    "# Show the plot\n",
    "plt.show()\n"
   ]
  },
  {
   "cell_type": "code",
   "execution_count": null,
   "metadata": {
    "colab": {
     "base_uri": "https://localhost:8080/",
     "height": 472
    },
    "executionInfo": {
     "elapsed": 441,
     "status": "ok",
     "timestamp": 1718991883468,
     "user": {
      "displayName": "Anderson Rodrigues",
      "userId": "12626291284134980042"
     },
     "user_tz": 180
    },
    "id": "JVM0ig-J5iFN",
    "outputId": "c6a7d5f5-279c-46d2-c48a-ef5f21d7113a"
   },
   "outputs": [],
   "source": [
    "# Crie um histograma para visualizar a distribuição de um conjunto de dados\n",
    "\n",
    "# Import necessary libraries\n",
    "import matplotlib.pyplot as plt\n",
    "\n",
    "# Define data\n",
    "data = [2, 5, 7, 2, 1, 4, 6, 8, 3, 5, 9, 10]\n",
    "\n",
    "# Create the histogram\n",
    "plt.hist(data)\n",
    "\n",
    "# Add labels and title\n",
    "plt.xlabel(\"Value\")\n",
    "plt.ylabel(\"Frequency\")\n",
    "plt.title(\"Histogram of Data\")\n",
    "\n",
    "# Show the plot\n",
    "plt.show()\n"
   ]
  }
 ],
 "metadata": {
  "colab": {
   "authorship_tag": "ABX9TyPDEMnQKrDjagYwfugO5/qz",
   "provenance": []
  },
  "kernelspec": {
   "display_name": "Python 3 (ipykernel)",
   "language": "python",
   "name": "python3"
  },
  "language_info": {
   "codemirror_mode": {
    "name": "ipython",
    "version": 3
   },
   "file_extension": ".py",
   "mimetype": "text/x-python",
   "name": "python",
   "nbconvert_exporter": "python",
   "pygments_lexer": "ipython3",
   "version": "3.11.3"
  }
 },
 "nbformat": 4,
 "nbformat_minor": 1
}
